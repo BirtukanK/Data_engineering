{
 "cells": [
  {
   "cell_type": "markdown",
   "metadata": {},
   "source": [
    "Exploratory Data Analysis (EDA)"
   ]
  },
  {
   "cell_type": "code",
   "execution_count": 25,
   "metadata": {},
   "outputs": [],
   "source": [
    "import pandas as pd\n",
    "import matplotlib.pyplot as plt\n",
    "import numpy as np\n",
    "import seaborn as sns"
   ]
  },
  {
   "cell_type": "code",
   "execution_count": 16,
   "metadata": {},
   "outputs": [],
   "source": [
    "import sys, os"
   ]
  },
  {
   "cell_type": "code",
   "execution_count": 26,
   "metadata": {},
   "outputs": [],
   "source": [
    "sys.path.append(os.path.abspath(os.path.join(\"../scripts/\")))\n",
    "from plot import Plots as plot"
   ]
  },
  {
   "cell_type": "code",
   "execution_count": 10,
   "metadata": {},
   "outputs": [
    {
     "data": {
      "text/html": [
       "<div>\n",
       "<style scoped>\n",
       "    .dataframe tbody tr th:only-of-type {\n",
       "        vertical-align: middle;\n",
       "    }\n",
       "\n",
       "    .dataframe tbody tr th {\n",
       "        vertical-align: top;\n",
       "    }\n",
       "\n",
       "    .dataframe thead th {\n",
       "        text-align: right;\n",
       "    }\n",
       "</style>\n",
       "<table border=\"1\" class=\"dataframe\">\n",
       "  <thead>\n",
       "    <tr style=\"text-align: right;\">\n",
       "      <th></th>\n",
       "      <th>id</th>\n",
       "      <th>track_id</th>\n",
       "      <th>type</th>\n",
       "      <th>traveled_d</th>\n",
       "      <th>avg_speed</th>\n",
       "      <th>lat</th>\n",
       "      <th>lon</th>\n",
       "      <th>speed</th>\n",
       "      <th>lon_acc</th>\n",
       "      <th>lat_acc</th>\n",
       "      <th>time</th>\n",
       "    </tr>\n",
       "  </thead>\n",
       "  <tbody>\n",
       "    <tr>\n",
       "      <th>0</th>\n",
       "      <td>0</td>\n",
       "      <td>1</td>\n",
       "      <td>Motorcycle</td>\n",
       "      <td>204.43</td>\n",
       "      <td>25.204064</td>\n",
       "      <td>37.984319</td>\n",
       "      <td>23.727016</td>\n",
       "      <td>3.3398</td>\n",
       "      <td>-0.7021</td>\n",
       "      <td>-0.3105</td>\n",
       "      <td>0.0</td>\n",
       "    </tr>\n",
       "    <tr>\n",
       "      <th>1</th>\n",
       "      <td>1</td>\n",
       "      <td>2</td>\n",
       "      <td>Car</td>\n",
       "      <td>177.82</td>\n",
       "      <td>1.404426</td>\n",
       "      <td>37.983688</td>\n",
       "      <td>23.727325</td>\n",
       "      <td>0.0000</td>\n",
       "      <td>0.0000</td>\n",
       "      <td>0.0000</td>\n",
       "      <td>0.0</td>\n",
       "    </tr>\n",
       "    <tr>\n",
       "      <th>2</th>\n",
       "      <td>2</td>\n",
       "      <td>3</td>\n",
       "      <td>Medium Vehicle</td>\n",
       "      <td>63.78</td>\n",
       "      <td>0.249939</td>\n",
       "      <td>37.984250</td>\n",
       "      <td>23.728587</td>\n",
       "      <td>0.0000</td>\n",
       "      <td>0.0000</td>\n",
       "      <td>0.0000</td>\n",
       "      <td>0.0</td>\n",
       "    </tr>\n",
       "    <tr>\n",
       "      <th>3</th>\n",
       "      <td>3</td>\n",
       "      <td>4</td>\n",
       "      <td>Car</td>\n",
       "      <td>209.93</td>\n",
       "      <td>27.582477</td>\n",
       "      <td>37.984260</td>\n",
       "      <td>23.727075</td>\n",
       "      <td>1.0957</td>\n",
       "      <td>0.0468</td>\n",
       "      <td>-1.1500</td>\n",
       "      <td>0.0</td>\n",
       "    </tr>\n",
       "    <tr>\n",
       "      <th>4</th>\n",
       "      <td>4</td>\n",
       "      <td>5</td>\n",
       "      <td>Heavy Vehicle</td>\n",
       "      <td>216.75</td>\n",
       "      <td>1.959525</td>\n",
       "      <td>37.984242</td>\n",
       "      <td>23.727138</td>\n",
       "      <td>0.0000</td>\n",
       "      <td>0.0000</td>\n",
       "      <td>0.0000</td>\n",
       "      <td>0.0</td>\n",
       "    </tr>\n",
       "    <tr>\n",
       "      <th>...</th>\n",
       "      <td>...</td>\n",
       "      <td>...</td>\n",
       "      <td>...</td>\n",
       "      <td>...</td>\n",
       "      <td>...</td>\n",
       "      <td>...</td>\n",
       "      <td>...</td>\n",
       "      <td>...</td>\n",
       "      <td>...</td>\n",
       "      <td>...</td>\n",
       "      <td>...</td>\n",
       "    </tr>\n",
       "    <tr>\n",
       "      <th>2398</th>\n",
       "      <td>2398</td>\n",
       "      <td>2400</td>\n",
       "      <td>Car</td>\n",
       "      <td>15.88</td>\n",
       "      <td>31.762611</td>\n",
       "      <td>37.983489</td>\n",
       "      <td>23.726762</td>\n",
       "      <td>32.4993</td>\n",
       "      <td>0.0004</td>\n",
       "      <td>0.0147</td>\n",
       "      <td>916.8</td>\n",
       "    </tr>\n",
       "    <tr>\n",
       "      <th>2399</th>\n",
       "      <td>2399</td>\n",
       "      <td>2401</td>\n",
       "      <td>Motorcycle</td>\n",
       "      <td>4.31</td>\n",
       "      <td>15.510216</td>\n",
       "      <td>37.984873</td>\n",
       "      <td>23.729530</td>\n",
       "      <td>16.1565</td>\n",
       "      <td>0.0000</td>\n",
       "      <td>0.0000</td>\n",
       "      <td>917.6</td>\n",
       "    </tr>\n",
       "    <tr>\n",
       "      <th>2400</th>\n",
       "      <td>2400</td>\n",
       "      <td>2402</td>\n",
       "      <td>Car</td>\n",
       "      <td>6.56</td>\n",
       "      <td>29.524681</td>\n",
       "      <td>37.983498</td>\n",
       "      <td>23.726719</td>\n",
       "      <td>31.0786</td>\n",
       "      <td>0.0000</td>\n",
       "      <td>0.0000</td>\n",
       "      <td>917.8</td>\n",
       "    </tr>\n",
       "    <tr>\n",
       "      <th>2401</th>\n",
       "      <td>2401</td>\n",
       "      <td>2403</td>\n",
       "      <td>Taxi</td>\n",
       "      <td>6.45</td>\n",
       "      <td>29.013393</td>\n",
       "      <td>37.983796</td>\n",
       "      <td>23.729978</td>\n",
       "      <td>30.5404</td>\n",
       "      <td>0.0000</td>\n",
       "      <td>0.0000</td>\n",
       "      <td>917.8</td>\n",
       "    </tr>\n",
       "    <tr>\n",
       "      <th>2402</th>\n",
       "      <td>2402</td>\n",
       "      <td>2404</td>\n",
       "      <td>Car</td>\n",
       "      <td>1.00</td>\n",
       "      <td>18.081448</td>\n",
       "      <td>37.983763</td>\n",
       "      <td>23.729980</td>\n",
       "      <td>22.6018</td>\n",
       "      <td>0.0000</td>\n",
       "      <td>0.0000</td>\n",
       "      <td>918.4</td>\n",
       "    </tr>\n",
       "  </tbody>\n",
       "</table>\n",
       "<p>2403 rows × 11 columns</p>\n",
       "</div>"
      ],
      "text/plain": [
       "        id  track_id             type  traveled_d  avg_speed        lat  \\\n",
       "0        0         1       Motorcycle      204.43  25.204064  37.984319   \n",
       "1        1         2              Car      177.82   1.404426  37.983688   \n",
       "2        2         3   Medium Vehicle       63.78   0.249939  37.984250   \n",
       "3        3         4              Car      209.93  27.582477  37.984260   \n",
       "4        4         5    Heavy Vehicle      216.75   1.959525  37.984242   \n",
       "...    ...       ...              ...         ...        ...        ...   \n",
       "2398  2398      2400              Car       15.88  31.762611  37.983489   \n",
       "2399  2399      2401       Motorcycle        4.31  15.510216  37.984873   \n",
       "2400  2400      2402              Car        6.56  29.524681  37.983498   \n",
       "2401  2401      2403             Taxi        6.45  29.013393  37.983796   \n",
       "2402  2402      2404              Car        1.00  18.081448  37.983763   \n",
       "\n",
       "            lon    speed  lon_acc  lat_acc   time  \n",
       "0     23.727016   3.3398  -0.7021  -0.3105    0.0  \n",
       "1     23.727325   0.0000   0.0000   0.0000    0.0  \n",
       "2     23.728587   0.0000   0.0000   0.0000    0.0  \n",
       "3     23.727075   1.0957   0.0468  -1.1500    0.0  \n",
       "4     23.727138   0.0000   0.0000   0.0000    0.0  \n",
       "...         ...      ...      ...      ...    ...  \n",
       "2398  23.726762  32.4993   0.0004   0.0147  916.8  \n",
       "2399  23.729530  16.1565   0.0000   0.0000  917.6  \n",
       "2400  23.726719  31.0786   0.0000   0.0000  917.8  \n",
       "2401  23.729978  30.5404   0.0000   0.0000  917.8  \n",
       "2402  23.729980  22.6018   0.0000   0.0000  918.4  \n",
       "\n",
       "[2403 rows x 11 columns]"
      ]
     },
     "execution_count": 10,
     "metadata": {},
     "output_type": "execute_result"
    }
   ],
   "source": [
    "traffic_df = pd.read_csv(\"../data/data_1.csv\")\n",
    "traffic_df"
   ]
  },
  {
   "cell_type": "code",
   "execution_count": 11,
   "metadata": {},
   "outputs": [
    {
     "data": {
      "text/plain": [
       "(2403, 11)"
      ]
     },
     "execution_count": 11,
     "metadata": {},
     "output_type": "execute_result"
    }
   ],
   "source": [
    "traffic_df.shape"
   ]
  },
  {
   "cell_type": "code",
   "execution_count": 14,
   "metadata": {},
   "outputs": [
    {
     "data": {
      "text/plain": [
       " Motorcycle        992\n",
       " Car               728\n",
       " Taxi              493\n",
       " Medium Vehicle     97\n",
       " Bus                72\n",
       " Heavy Vehicle      21\n",
       "Name: type, dtype: int64"
      ]
     },
     "execution_count": 14,
     "metadata": {},
     "output_type": "execute_result"
    }
   ],
   "source": [
    "types = traffic_df[\"type\"].value_counts()\n",
    "types"
   ]
  },
  {
   "cell_type": "code",
   "execution_count": 27,
   "metadata": {},
   "outputs": [
    {
     "data": {
      "image/png": "[encoded data removed]",
      "text/plain": [
       "<Figure size 1200x700 with 1 Axes>"
      ]
     },
     "metadata": {},
     "output_type": "display_data"
    }
   ],
   "source": [
    "plot.plot_count(traffic_df, \"type\")"
   ]
  }
 ],
 "metadata": {
  "kernelspec": {
   "display_name": "Python 3.9.12 ('venv': venv)",
   "language": "python",
   "name": "python3"
  },
  "language_info": {
   "codemirror_mode": {
    "name": "ipython",
    "version": 3
   },
   "file_extension": ".py",
   "mimetype": "text/x-python",
   "name": "python",
   "nbconvert_exporter": "python",
   "pygments_lexer": "ipython3",
   "version": "3.9.12"
  },
  "orig_nbformat": 4,
  "vscode": {
   "interpreter": {
    "hash": "322d49d1d4ef558e2277e1c2f4a3928aca9bd6cab01f6c20d69c562419ac82a2"
   }
  }
 },
 "nbformat": 4,
 "nbformat_minor": 2
}
